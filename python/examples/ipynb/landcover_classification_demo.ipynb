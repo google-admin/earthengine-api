{
 "cells": [
  {
   "cell_type": "code",
   "execution_count": 0,
   "metadata": {
    "colab": {},
    "colab_type": "code",
    "id": "fSIfBsgi8dNK",
    "slideshow": {
     "slide_type": "skip"
    }
   },
   "outputs": [],
   "source": [
    "#@title Copyright 2019 Google LLC. { display-mode: \"form\" }\n",
    "# Licensed under the Apache License, Version 2.0 (the \"License\");\n",
    "# you may not use this file except in compliance with the License.\n",
    "# You may obtain a copy of the License at\n",
    "#\n",
    "# https://www.apache.org/licenses/LICENSE-2.0\n",
    "#\n",
    "# Unless required by applicable law or agreed to in writing, software\n",
    "# distributed under the License is distributed on an \"AS IS\" BASIS,\n",
    "# WITHOUT WARRANTIES OR CONDITIONS OF ANY KIND, either express or implied.\n",
    "# See the License for the specific language governing permissions and\n",
    "# limitations under the License."
   ]
  },
  {
   "cell_type": "markdown",
   "metadata": {
    "colab_type": "text",
    "id": "AC8adBmw-5m3",
    "slideshow": {
     "slide_type": "fragment"
    }
   },
   "source": [
    "# Introduction\n",
    "\n",
    "This is an Earth Engine <> TensorFlow demonstration notebook.  Specifically, this notebook shows:\n",
    "\n",
    "1.   Exporting training/testing data from Earth Engine in TFRecord format.\n",
    "2.   Preparing the data for use in a TensorFlow model.\n",
    "2.   Training and validating a simple model (Keras `Sequential` neural network) in TensorFlow.\n",
    "3.   Making predictions on image data exported from Earth Engine in TFRecord format.\n",
    "4.   Ingesting classified image data to Earth Engine in TFRecord format."
   ]
  },
  {
   "cell_type": "markdown",
   "metadata": {
    "colab_type": "text",
    "id": "KiTyR3FNlv-O",
    "slideshow": {
     "slide_type": "skip"
    }
   },
   "source": [
    "# Install the Earth Engine client library\n",
    "\n",
    "This only needs to be done once per notebook."
   ]
  },
  {
   "cell_type": "code",
   "execution_count": null,
   "metadata": {
    "cellView": "code",
    "colab": {
     "base_uri": "https://localhost:8080/",
     "height": 641
    },
    "colab_type": "code",
    "id": "sYyTIPLsvMWl",
    "outputId": "b0c1b89c-aba7-42a8-b44f-9ca2f25a71e6",
    "slideshow": {
     "slide_type": "fragment"
    }
   },
   "outputs": [],
   "source": [
    "!pip install earthengine-api"
   ]
  },
  {
   "cell_type": "markdown",
   "metadata": {
    "colab_type": "text",
    "id": "qptAXhKmXo_J",
    "slideshow": {
     "slide_type": "skip"
    }
   },
   "source": [
    "# Authentication\n",
    "\n",
    "To read/write from a Google Cloud Storage bucket to which you have access, it's necessary to authenticate (as yourself).  You'll also need to authenticate as yourself with Earth Engine, so that you'll have access to your scripts, assets, etc."
   ]
  },
  {
   "cell_type": "markdown",
   "metadata": {
    "colab_type": "text",
    "id": "dEM3FP4YakJg",
    "slideshow": {
     "slide_type": "skip"
    }
   },
   "source": [
    "## Authenticate to Colab and Cloud\n",
    "\n",
    "Identify yourself to Google Cloud, so you have access to storage and other resources.  When you run the code below, it will display a link in the output to an authentication page in your browser.  Follow the link to a page that will let you grant permission to the Cloud SDK to access your resources.  Copy the code from the permissions page back into this notebook and press return to complete the process.\n",
    "\n",
    "(You may need to run this again if you get a credentials error later.)"
   ]
  },
  {
   "cell_type": "code",
   "execution_count": 0,
   "metadata": {
    "cellView": "code",
    "colab": {},
    "colab_type": "code",
    "id": "5qMKG1hEXuML",
    "slideshow": {
     "slide_type": "fragment"
    }
   },
   "outputs": [],
   "source": [
    "from google.colab import auth\n",
    "\n",
    "auth.authenticate_user()"
   ]
  },
  {
   "cell_type": "markdown",
   "metadata": {
    "colab_type": "text",
    "id": "Ejxa1MQjEGv9",
    "slideshow": {
     "slide_type": "notes"
    }
   },
   "source": [
    "## Authenticate to Earth Engine\n",
    "\n",
    "Authenticate to Earth Engine the same way you did to the Colab notebook.  Specifically, run the code to display a link to a permissions page.  This gives you access to your Earth Engine account.  Copy the code from the Earth Engine permissions page back into the notebook and press return to complete the process."
   ]
  },
  {
   "cell_type": "code",
   "execution_count": null,
   "metadata": {
    "cellView": "code",
    "colab": {
     "base_uri": "https://localhost:8080/",
     "height": 250
    },
    "colab_type": "code",
    "id": "HzwiVqbcmJIX",
    "outputId": "d0e75d2a-357b-4689-9cb9-80f86415d416",
    "slideshow": {
     "slide_type": "fragment"
    }
   },
   "outputs": [],
   "source": [
    "!earthengine authenticate"
   ]
  },
  {
   "cell_type": "markdown",
   "metadata": {
    "colab_type": "text",
    "id": "SMkNljPGMzyG",
    "slideshow": {
     "slide_type": "skip"
    }
   },
   "source": [
    "# Initialize and test the software setup"
   ]
  },
  {
   "cell_type": "markdown",
   "metadata": {
    "colab_type": "text",
    "id": "eJPDyllIMRAa",
    "slideshow": {
     "slide_type": "skip"
    }
   },
   "source": [
    "## Test the Earth Engine installation\n",
    "\n"
   ]
  },
  {
   "cell_type": "code",
   "execution_count": null,
   "metadata": {
    "colab": {
     "base_uri": "https://localhost:8080/",
     "height": 887
    },
    "colab_type": "code",
    "id": "uuAk34-HMXnG",
    "outputId": "128cc1a4-c80a-49f9-fda2-ab7c6369592e",
    "scrolled": false,
    "slideshow": {
     "slide_type": "fragment"
    }
   },
   "outputs": [],
   "source": [
    "# Import the Earth Engine API and initialize it.\n",
    "import ee\n",
    "ee.Initialize()\n",
    "\n",
    "# Test the earthengine command by getting help on upload.\n",
    "!earthengine upload image -h"
   ]
  },
  {
   "cell_type": "markdown",
   "metadata": {
    "colab_type": "text",
    "id": "iJ70EsoWND_0",
    "slideshow": {
     "slide_type": "notes"
    }
   },
   "source": [
    "## Test the TensorFlow installation\n",
    "\n",
    "The default public runtime already has the tensorflow libraries we need installed.  Before any operations from the TensorFlow API are used, import TensorFlow and enable eager execution.  This provides an imperative interface that can help with debugging.  See the [TensorFlow eager execution guide](https://www.tensorflow.org/guide/eager) or the [`tf.enable_eager_execution()` docs](https://www.tensorflow.org/api_docs/python/tf/enable_eager_execution) for details. "
   ]
  },
  {
   "cell_type": "code",
   "execution_count": 6,
   "metadata": {
    "cellView": "code",
    "colab": {
     "base_uri": "https://localhost:8080/",
     "height": 34
    },
    "colab_type": "code",
    "id": "i1PrYRLaVw_g",
    "outputId": "dd645739-8584-4db3-c634-c5c0e00e96b9",
    "slideshow": {
     "slide_type": "fragment"
    }
   },
   "outputs": [
    {
     "name": "stdout",
     "output_type": "stream",
     "text": [
      "1.14.0\n"
     ]
    }
   ],
   "source": [
    "import tensorflow as tf\n",
    "\n",
    "tf.enable_eager_execution()\n",
    "print(tf.__version__)"
   ]
  },
  {
   "cell_type": "markdown",
   "metadata": {
    "colab_type": "text",
    "id": "b8Xcvjp6cLOL",
    "slideshow": {
     "slide_type": "skip"
    }
   },
   "source": [
    "## Test the Folium installation\n",
    "\n",
    "The default public runtime already has the Folium library we will use for visualization.  Import the library, check the version, and define the URL where Folium will look for Earth Engine generated map tiles."
   ]
  },
  {
   "cell_type": "code",
   "execution_count": 0,
   "metadata": {
    "colab": {},
    "colab_type": "code",
    "id": "YiVgOXzBZJSn",
    "slideshow": {
     "slide_type": "slide"
    }
   },
   "outputs": [],
   "source": [
    "import folium\n",
    "print(folium.__version__)\n",
    "\n",
    "# Define the URL format used for Earth Engine generated map tiles.\n",
    "EE_TILES = 'https://earthengine.googleapis.com/map/{mapid}/{{z}}/{{x}}/{{y}}?token={token}'"
   ]
  },
  {
   "cell_type": "markdown",
   "metadata": {
    "colab_type": "text",
    "id": "ZcjQnHH8zT4q",
    "slideshow": {
     "slide_type": "notes"
    }
   },
   "source": [
    "# Get Training and Testing data from Earth Engine\n",
    "\n",
    "To get data for a classification model of three classes (bare, vegetation, water), we need labels and the value of predictor variables for each labeled example.  We've already generated some labels in Earth Engine.  Specifically, these are visually interpreted points labeled \"bare,\" \"vegetation,\" or \"water\" for a very simple classification demo ([Code Editor script](https://code.earthengine.google.com/ae20232b821e753ff33fc23cfe90089a)).  For predictor variables, we'll use [Landsat 8 surface reflectance imagery](https://developers.google.com/earth-engine/datasets/catalog/LANDSAT_LC08_C01_T1_SR), bands 2-7."
   ]
  },
  {
   "cell_type": "markdown",
   "metadata": {
    "colab_type": "text",
    "id": "0EJfjgelSOpN",
    "slideshow": {
     "slide_type": "subslide"
    }
   },
   "source": [
    "## Prepare Landsat 8 imagery\n",
    "\n",
    "First, make a cloud-masked median composite of Landsat 8 surface reflectance imagery from 2018.  Check the composite by visualizing with folium."
   ]
  },
  {
   "cell_type": "code",
   "execution_count": null,
   "metadata": {
    "colab": {
     "base_uri": "https://localhost:8080/",
     "height": 846
    },
    "colab_type": "code",
    "id": "DJYucYe3SPPr",
    "outputId": "3bf21cbf-3429-4dde-c5a0-3cc1f6a4e7ef",
    "scrolled": true,
    "slideshow": {
     "slide_type": "slide"
    }
   },
   "outputs": [],
   "source": [
    "# Use these bands for prediction.\n",
    "bands = ['B2', 'B3', 'B4', 'B5', 'B6', 'B7']\n",
    "# Use Landsat 8 surface reflectance data.\n",
    "l8sr = ee.ImageCollection('LANDSAT/LC08/C01/T1_SR')\n",
    "\n",
    "# Cloud masking function.\n",
    "def maskL8sr(image):\n",
    "  cloudShadowBitMask = ee.Number(2).pow(3).int()\n",
    "  cloudsBitMask = ee.Number(2).pow(5).int()\n",
    "  qa = image.select('pixel_qa')\n",
    "  mask = qa.bitwiseAnd(cloudShadowBitMask).eq(0).And(\n",
    "    qa.bitwiseAnd(cloudsBitMask).eq(0))\n",
    "  return image.updateMask(mask).select(bands).divide(10000)\n",
    "\n",
    "# The image input data is a 2018 cloud-masked median composite.\n",
    "image = l8sr.filterDate('2018-01-01', '2018-12-31').map(maskL8sr).median()\n",
    "\n",
    "# Use folium to visualize the imagery.\n",
    "mapid = image.getMapId({'bands': ['B4', 'B3', 'B2'], 'min': 0, 'max': 0.3})\n",
    "map = folium.Map(location=[38., -122.5])\n",
    "folium.TileLayer(\n",
    "    tiles=EE_TILES.format(**mapid),\n",
    "    attr='Google Earth Engine',\n",
    "    overlay=True,\n",
    "    name='median composite',\n",
    "  ).add_to(map)\n",
    "map.add_child(folium.LayerControl())\n",
    "map"
   ]
  },
  {
   "cell_type": "markdown",
   "metadata": {
    "slideshow": {
     "slide_type": "slide"
    }
   },
   "source": [
    "<img src=\"14-58.png\"> "
   ]
  },
  {
   "cell_type": "markdown",
   "metadata": {
    "colab_type": "text",
    "id": "UEeyPf3zSPct",
    "slideshow": {
     "slide_type": "subslide"
    }
   },
   "source": [
    "## Add pixel values of the composite to labeled points.  \n",
    "\n",
    "Some training labels have already been collected for you.  Load the labeled points from an existing Earth Engine asset.  Each point in this table has a property called `landcover` that stores the label, encoded as an integer.  Here we overlay the points on  imagery to get predictor variables along with labels."
   ]
  },
  {
   "cell_type": "code",
   "execution_count": 10,
   "metadata": {
    "colab": {
     "base_uri": "https://localhost:8080/",
     "height": 407
    },
    "colab_type": "code",
    "id": "iOedOKyRExHE",
    "outputId": "e161a6c0-964a-4b06-e171-5369d4ee16ec",
    "slideshow": {
     "slide_type": "slide"
    }
   },
   "outputs": [
    {
     "name": "stdout",
     "output_type": "stream",
     "text": [
      "{'training': {'geometry': None,\n",
      "              'id': '000066e7d9bc84b3f95d_0',\n",
      "              'properties': {'B2': 0.04915,\n",
      "                             'B3': 0.06965,\n",
      "                             'B4': 0.08975,\n",
      "                             'B5': 0.1729,\n",
      "                             'B6': 0.2126,\n",
      "                             'B7': 0.1515,\n",
      "                             'landcover': 1,\n",
      "                             'random': 0.48821239695851826},\n",
      "              'type': 'Feature'}}\n",
      "{'testing': {'geometry': None,\n",
      "             'id': '00009f65e3c9ae02b84e_0',\n",
      "             'properties': {'B2': 0.0522,\n",
      "                            'B3': 0.06205,\n",
      "                            'B4': 0.0366,\n",
      "                            'B5': 0.0114,\n",
      "                            'B6': 0.0068,\n",
      "                            'B7': 0.00525,\n",
      "                            'landcover': 2,\n",
      "                            'random': 0.9625556139914849},\n",
      "             'type': 'Feature'}}\n"
     ]
    }
   ],
   "source": [
    "# Change the following two lines to use your own training data.\n",
    "labels = ee.FeatureCollection('projects/google/demo_landcover_labels')\n",
    "label = 'landcover'\n",
    "\n",
    "# Sample the image at the points and add a random column.\n",
    "sample = image.sampleRegions(\n",
    "  collection=labels, properties=[label], scale=30).randomColumn()\n",
    "\n",
    "# Partition the sample approximately 70-30.\n",
    "training = sample.filter(ee.Filter.lt('random', 0.7))\n",
    "testing = sample.filter(ee.Filter.gte('random', 0.7))\n",
    "\n",
    "from pprint import pprint\n",
    "\n",
    "# Print the first couple points to verify.\n",
    "pprint({'training': training.first().getInfo()})\n",
    "pprint({'testing': testing.first().getInfo()})"
   ]
  },
  {
   "cell_type": "markdown",
   "metadata": {
    "colab_type": "text",
    "id": "uNc7a2nRR4MI",
    "slideshow": {
     "slide_type": "subslide"
    }
   },
   "source": [
    "## Export the training and testing data\n",
    "\n",
    "Now that there's training and testing data in Earth Engine and you've inspected a couple examples to ensure that the information you need is present, it's time to materialize the datasets in a place where the TensorFlow model has access to them.  You can do that by exporting the training and testing datasets to tables in TFRecord format ([learn more about TFRecord format](https://www.tensorflow.org/tutorials/load_data/tf-records)) in a Cloud Storage bucket ([learn more about creating Cloud Storage buckets](https://cloud.google.com/storage/docs/creating-buckets)).  Note that you need to have write access to the Cloud Storage bucket where the files will be output."
   ]
  },
  {
   "cell_type": "code",
   "execution_count": 11,
   "metadata": {
    "colab": {
     "base_uri": "https://localhost:8080/",
     "height": 34
    },
    "colab_type": "code",
    "id": "Pb-aPvQc0Xvp",
    "outputId": "6971370f-8c47-4fba-82c5-d97b1e21e1ed",
    "slideshow": {
     "slide_type": "subslide"
    }
   },
   "outputs": [
    {
     "name": "stdout",
     "output_type": "stream",
     "text": [
      "Found Cloud Storage bucket.\n"
     ]
    }
   ],
   "source": [
    "# REPLACE WITH YOUR BUCKET!\n",
    "outputBucket = 'diversion-nextera'\n",
    "\n",
    "# Make sure the bucket exists.\n",
    "print('Found Cloud Storage bucket.' if tf.gfile.Exists('gs://' + outputBucket) \n",
    "    else 'Output Cloud Storage bucket does not exist.')"
   ]
  },
  {
   "cell_type": "markdown",
   "metadata": {
    "colab_type": "text",
    "id": "Wtoqj0Db1TmJ",
    "slideshow": {
     "slide_type": "skip"
    }
   },
   "source": [
    "Once you've verified the existence of the intended output bucket, run the exports."
   ]
  },
  {
   "cell_type": "code",
   "execution_count": 0,
   "metadata": {
    "colab": {},
    "colab_type": "code",
    "id": "TfVNQzg8R6Wy",
    "slideshow": {
     "slide_type": "skip"
    }
   },
   "outputs": [],
   "source": [
    "# Names for output files.\n",
    "trainFilePrefix = 'Training_demo_'\n",
    "testFilePrefix = 'Testing_demo_'\n",
    "\n",
    "# This is list of all the properties we want to export.\n",
    "featureNames = list(bands)\n",
    "featureNames.append(label)\n",
    "\n",
    "# Create the tasks.\n",
    "trainingTask = ee.batch.Export.table.toCloudStorage(\n",
    "  collection=training,\n",
    "  description='Training Export',\n",
    "  fileNamePrefix=trainFilePrefix,\n",
    "  bucket=outputBucket,\n",
    "  fileFormat='TFRecord',\n",
    "  selectors=featureNames)\n",
    "\n",
    "testingTask = ee.batch.Export.table.toCloudStorage(\n",
    "  collection=testing,\n",
    "  description='Testing Export',\n",
    "  fileNamePrefix=testFilePrefix,\n",
    "  bucket=outputBucket,\n",
    "  fileFormat='TFRecord',\n",
    "  selectors=featureNames)"
   ]
  },
  {
   "cell_type": "code",
   "execution_count": 0,
   "metadata": {
    "colab": {},
    "colab_type": "code",
    "id": "QF4WGIekaS2s",
    "slideshow": {
     "slide_type": "fragment"
    }
   },
   "outputs": [],
   "source": [
    "# Start the tasks.\n",
    "trainingTask.start()\n",
    "testingTask.start()"
   ]
  },
  {
   "cell_type": "markdown",
   "metadata": {
    "colab_type": "text",
    "id": "q7nFLuySISeC",
    "slideshow": {
     "slide_type": "fragment"
    }
   },
   "source": [
    "### Monitor task progress\n",
    "\n",
    "You can see all your Earth Engine tasks by listing them.  It's also useful to repeatedly poll a task so you know when it's done.  Here we can do that because this is a relatively quick export.  Be careful when doing this with large exports because it will block the notebook from running other cells until this one completes."
   ]
  },
  {
   "cell_type": "code",
   "execution_count": null,
   "metadata": {
    "colab": {
     "base_uri": "https://localhost:8080/",
     "height": 107
    },
    "colab_type": "code",
    "id": "oEWvS5ekcEq0",
    "outputId": "bce9928f-10ea-4054-9926-63b770582f72",
    "slideshow": {
     "slide_type": "fragment"
    }
   },
   "outputs": [],
   "source": [
    "# Print all tasks.\n",
    "print(ee.batch.Task.list())\n",
    "\n",
    "# Poll the training task until it's done.\n",
    "import time \n",
    "while trainingTask.active():\n",
    "  print('Polling for task (id: {}).'.format(trainingTask.id))\n",
    "  time.sleep(5)\n",
    "print('Done with training export.')"
   ]
  },
  {
   "cell_type": "markdown",
   "metadata": {
    "colab_type": "text",
    "id": "43-c0JNFI_m6",
    "slideshow": {
     "slide_type": "skip"
    }
   },
   "source": [
    "### Check existence of the exported files\n",
    "\n",
    "If you've seen the status of the export tasks change to `COMPLETED`, then check for the existince of the files in the output Cloud Storage bucket."
   ]
  },
  {
   "cell_type": "code",
   "execution_count": 15,
   "metadata": {
    "colab": {
     "base_uri": "https://localhost:8080/",
     "height": 52
    },
    "colab_type": "code",
    "id": "YDZfNl6yc0Kj",
    "outputId": "7d41d893-a541-4234-ffb8-d806a04edbf9",
    "slideshow": {
     "slide_type": "subslide"
    }
   },
   "outputs": [
    {
     "name": "stdout",
     "output_type": "stream",
     "text": [
      "Found training file.\n",
      "Found testing file.\n"
     ]
    }
   ],
   "source": [
    "fileNameSuffix = '.gz'\n",
    "trainFilePath = 'gs://' + outputBucket + '/' + trainFilePrefix + fileNameSuffix\n",
    "testFilePath = 'gs://' + outputBucket + '/' + testFilePrefix + fileNameSuffix\n",
    "\n",
    "print('Found training file.' if tf.gfile.Exists(trainFilePath) \n",
    "    else 'No training file found.')\n",
    "print('Found testing file.' if tf.gfile.Exists(testFilePath) \n",
    "    else 'No testing file found.')"
   ]
  },
  {
   "cell_type": "markdown",
   "metadata": {
    "colab_type": "text",
    "id": "NA8QA8oQVo8V",
    "slideshow": {
     "slide_type": "fragment"
    }
   },
   "source": [
    "## Export the imagery\n",
    "\n",
    "You can also export imagery using TFRecord format.  Specifically, export whatever imagery you want to be classified by the trained model into the output Cloud Storage bucket."
   ]
  },
  {
   "cell_type": "code",
   "execution_count": 0,
   "metadata": {
    "colab": {},
    "colab_type": "code",
    "id": "tVNhJYacVpEw",
    "slideshow": {
     "slide_type": "fragment"
    }
   },
   "outputs": [],
   "source": [
    "imageFilePrefix = 'Image_pixel_demo_'\n",
    "\n",
    "# Specify patch and file dimensions.\n",
    "imageExportFormatOptions = {\n",
    "  'patchDimensions': [256, 256],\n",
    "  'maxFileSize': 104857600,\n",
    "  'compressed': True\n",
    "}\n",
    "\n",
    "# Export imagery in this region.\n",
    "exportRegion = ee.Geometry.Rectangle([-122.7, 37.3, -121.8, 38.00])\n",
    "\n",
    "# Setup the task.\n",
    "imageTask = ee.batch.Export.image.toCloudStorage(\n",
    "  image=image,\n",
    "  description='Image Export',\n",
    "  fileNamePrefix=imageFilePrefix,\n",
    "  bucket=outputBucket,\n",
    "  scale=30,\n",
    "  fileFormat='TFRecord',\n",
    "  region=exportRegion.toGeoJSON()['coordinates'],\n",
    "  formatOptions=imageExportFormatOptions,\n",
    ")"
   ]
  },
  {
   "cell_type": "code",
   "execution_count": 0,
   "metadata": {
    "colab": {},
    "colab_type": "code",
    "id": "6SweCkHDaNE3",
    "slideshow": {
     "slide_type": "skip"
    }
   },
   "outputs": [],
   "source": [
    "# Start the task.\n",
    "imageTask.start()"
   ]
  },
  {
   "cell_type": "markdown",
   "metadata": {
    "colab_type": "text",
    "id": "JC8C53MRTG_E"
   },
   "source": [
    "### Monitor task progress\n",
    "\n",
    "Before making predictions, we need the image export to finish, so block until it does.  This might take a few minutes..."
   ]
  },
  {
   "cell_type": "code",
   "execution_count": null,
   "metadata": {
    "colab": {
     "base_uri": "https://localhost:8080/",
     "height": 1000
    },
    "colab_type": "code",
    "id": "rKZeZswloP11",
    "outputId": "e8754bfb-27b4-4b3f-945d-610ab41e4438",
    "slideshow": {
     "slide_type": "fragment"
    }
   },
   "outputs": [],
   "source": [
    "while imageTask.active():\n",
    "  print('Polling for task (id: {}).'.format(imageTask.id))\n",
    "  time.sleep(5)\n",
    "print('Done with image export.')"
   ]
  },
  {
   "cell_type": "markdown",
   "metadata": {
    "colab_type": "text",
    "id": "9vWdH_wlZCEk",
    "slideshow": {
     "slide_type": "fragment"
    }
   },
   "source": [
    "# Data preparation and pre-processing\n",
    "\n",
    "Read data from the TFRecord file into a `tf.data.Dataset`.  Pre-process the dataset to get it into a suitable format for input to the model."
   ]
  },
  {
   "cell_type": "markdown",
   "metadata": {
    "colab_type": "text",
    "id": "LS4jGTrEfz-1",
    "slideshow": {
     "slide_type": "subslide"
    }
   },
   "source": [
    "## Read into a `tf.data.Dataset`\n",
    "\n",
    "Here we are going to read a file in Cloud Storage into a `tf.data.Dataset`.  ([these TensorFlow docs](https://www.tensorflow.org/guide/premade_estimators#create_input_functions) explain more about reading data into a `Dataset`).  Check that you can read examples from the file.  The purpose here is to ensure that we can read from the file without an error.  The actual content is not necessarily human readable.\n",
    "\n"
   ]
  },
  {
   "cell_type": "code",
   "execution_count": 19,
   "metadata": {
    "cellView": "code",
    "colab": {
     "base_uri": "https://localhost:8080/",
     "height": 54
    },
    "colab_type": "code",
    "id": "T3PKyDQW8Vpx",
    "outputId": "2a781c59-f02e-4cd6-b71f-9ac0c75ae771",
    "slideshow": {
     "slide_type": "slide"
    }
   },
   "outputs": [
    {
     "name": "stdout",
     "output_type": "stream",
     "text": [
      "tf.Tensor(b'\\nw\\n\\x0e\\n\\x02B2\\x12\\x08\\x12\\x06\\n\\x04\\x83QI=\\n\\x0e\\n\\x02B3\\x12\\x08\\x12\\x06\\n\\x04\\xa9\\xa4\\x8e=\\n\\x0e\\n\\x02B4\\x12\\x08\\x12\\x06\\n\\x04\\xd9\\xce\\xb7=\\n\\x0e\\n\\x02B5\\x12\\x08\\x12\\x06\\n\\x04\\xb3\\x0c1>\\n\\x0e\\n\\x02B6\\x12\\x08\\x12\\x06\\n\\x04\\xd0\\xb3Y>\\n\\x0e\\n\\x02B7\\x12\\x08\\x12\\x06\\n\\x04\\xd1\"\\x1b>\\n\\x15\\n\\tlandcover\\x12\\x08\\x12\\x06\\n\\x04\\x00\\x00\\x80?', shape=(), dtype=string)\n"
     ]
    }
   ],
   "source": [
    "# Create a dataset from the TFRecord file in Cloud Storage.\n",
    "trainDataset = tf.data.TFRecordDataset(trainFilePath, compression_type='GZIP')\n",
    "# Print the first record to check.\n",
    "print(iter(trainDataset).next())"
   ]
  },
  {
   "cell_type": "markdown",
   "metadata": {
    "colab_type": "text",
    "id": "BrDYm-ibKR6t",
    "slideshow": {
     "slide_type": "slide"
    }
   },
   "source": [
    "## Define the structure of your data\n",
    "\n",
    "For parsing the exported TFRecord files, `featuresDict` is a mapping between feature names (recall that `featureNames` contains the band and label names) and `float32` [`tf.io.FixedLenFeature`](https://www.tensorflow.org/api_docs/python/tf/io/FixedLenFeature) objects.  This mapping is necessary for telling TensorFlow how to read data in a TFRecord file into tensors.  Specifically, all numeric data exported from Earth Engine is exported as `float32`.\n",
    "\n",
    "(Note: *features* in the TensorFlow context (i.e. [`feature.proto`](https://github.com/tensorflow/tensorflow/blob/r1.12/tensorflow/core/example/feature.proto)) are not to be confused with Earth Engine features (i.e. [`ee.Feature`](https://developers.google.com/earth-engine/api_docs#eefeature)), where the former is a protocol message type for serialized data input to the model and the latter is a geometry-based geographic data structure.)"
   ]
  },
  {
   "cell_type": "code",
   "execution_count": 20,
   "metadata": {
    "cellView": "code",
    "colab": {
     "base_uri": "https://localhost:8080/",
     "height": 141
    },
    "colab_type": "code",
    "id": "-6JVQV5HKHMZ",
    "outputId": "9575862a-e747-4920-ec5a-fa6e5a575868",
    "slideshow": {
     "slide_type": "fragment"
    }
   },
   "outputs": [
    {
     "name": "stdout",
     "output_type": "stream",
     "text": [
      "{'B2': FixedLenFeature(shape=[1], dtype=tf.float32, default_value=None),\n",
      " 'B3': FixedLenFeature(shape=[1], dtype=tf.float32, default_value=None),\n",
      " 'B4': FixedLenFeature(shape=[1], dtype=tf.float32, default_value=None),\n",
      " 'B5': FixedLenFeature(shape=[1], dtype=tf.float32, default_value=None),\n",
      " 'B6': FixedLenFeature(shape=[1], dtype=tf.float32, default_value=None),\n",
      " 'B7': FixedLenFeature(shape=[1], dtype=tf.float32, default_value=None),\n",
      " 'landcover': FixedLenFeature(shape=[1], dtype=tf.float32, default_value=None)}\n"
     ]
    }
   ],
   "source": [
    "# List of fixed-length features, all of which are float32.\n",
    "columns = [\n",
    "  tf.io.FixedLenFeature(shape=[1], dtype=tf.float32) for k in featureNames\n",
    "]\n",
    "\n",
    "# Dictionary with names as keys, features as values.\n",
    "featuresDict = dict(zip(featureNames, columns))\n",
    "\n",
    "pprint(featuresDict)"
   ]
  },
  {
   "cell_type": "markdown",
   "metadata": {
    "colab_type": "text",
    "id": "QNfaUPbcjuCO",
    "slideshow": {
     "slide_type": "fragment"
    }
   },
   "source": [
    "## Parse the dataset\n",
    "\n",
    "Now we need to make a parsing function for the data in the TFRecord files.  The data comes in flattened 2D arrays per record and we want to use the first part of the array for input to the model and the last element of the array as the class label.  The parsing function reads data from a serialized `Example` proto (i.e. [`example.proto`](https://github.com/tensorflow/tensorflow/blob/r1.12/tensorflow/core/example/example.proto)) into a dictionary in which the keys are the feature names and the values are the tensors storing the value of the features for that example.  ([Learn more about parsing `Example` protocol buffer messages](https://www.tensorflow.org/programmers_guide/datasets#parsing_tfexample_protocol_buffer_messages))."
   ]
  },
  {
   "cell_type": "code",
   "execution_count": 21,
   "metadata": {
    "cellView": "code",
    "colab": {
     "base_uri": "https://localhost:8080/",
     "height": 141
    },
    "colab_type": "code",
    "id": "x2Q0g3fBj2kD",
    "outputId": "38213e4e-9a17-4147-8508-5c73d847144e",
    "slideshow": {
     "slide_type": "fragment"
    }
   },
   "outputs": [
    {
     "name": "stdout",
     "output_type": "stream",
     "text": [
      "({'B2': <tf.Tensor: id=52, shape=(1,), dtype=float32, numpy=array([0.04915], dtype=float32)>,\n",
      "  'B3': <tf.Tensor: id=53, shape=(1,), dtype=float32, numpy=array([0.06965], dtype=float32)>,\n",
      "  'B4': <tf.Tensor: id=54, shape=(1,), dtype=float32, numpy=array([0.08975], dtype=float32)>,\n",
      "  'B5': <tf.Tensor: id=55, shape=(1,), dtype=float32, numpy=array([0.1729], dtype=float32)>,\n",
      "  'B6': <tf.Tensor: id=56, shape=(1,), dtype=float32, numpy=array([0.2126], dtype=float32)>,\n",
      "  'B7': <tf.Tensor: id=57, shape=(1,), dtype=float32, numpy=array([0.1515], dtype=float32)>},\n",
      " <tf.Tensor: id=58, shape=(1,), dtype=int32, numpy=array([1], dtype=int32)>)\n"
     ]
    }
   ],
   "source": [
    "def parse_tfrecord(example_proto):\n",
    "  \"\"\"The parsing function.\n",
    "\n",
    "  Read a serialized example into the structure defined by featuresDict.\n",
    "\n",
    "  Args:\n",
    "    example_proto: a serialized Example.\n",
    "  \n",
    "  Returns: \n",
    "    A tuple of the predictors dictionary and the label, cast to an `int32`.\n",
    "  \"\"\"\n",
    "  parsed_features = tf.io.parse_single_example(example_proto, featuresDict)\n",
    "  labels = parsed_features.pop(label)\n",
    "  return parsed_features, tf.cast(labels, tf.int32)\n",
    "\n",
    "# Map the function over the dataset.\n",
    "parsedDataset = trainDataset.map(parse_tfrecord, num_parallel_calls=5)\n",
    "\n",
    "# Print the first parsed record to check.\n",
    "pprint(iter(parsedDataset).next())"
   ]
  },
  {
   "cell_type": "markdown",
   "metadata": {
    "colab_type": "text",
    "id": "Nb8EyNT4Xnhb",
    "slideshow": {
     "slide_type": "fragment"
    }
   },
   "source": [
    "Note that each record of the parsed dataset contains a tuple.  The first element of the tuple is a dictionary with bands for keys and the numeric value of the bands for values.  The second element of the tuple is a class label."
   ]
  },
  {
   "cell_type": "markdown",
   "metadata": {
    "colab_type": "text",
    "id": "xLCsxWOuEBmE",
    "slideshow": {
     "slide_type": "skip"
    }
   },
   "source": [
    "## Create additional features\n",
    "\n",
    "Another thing we might want to do as part of the input process is to create new features, for example NDVI, a vegetation index computed from reflectance in two spectral bands.  Here are some helper functions for that."
   ]
  },
  {
   "cell_type": "code",
   "execution_count": 0,
   "metadata": {
    "cellView": "code",
    "colab": {},
    "colab_type": "code",
    "id": "lT6v2RM_EB1E",
    "slideshow": {
     "slide_type": "slide"
    }
   },
   "outputs": [],
   "source": [
    "def normalizedDifference(a, b):\n",
    "  \"\"\"Compute normalized difference of two inputs.\n",
    "\n",
    "  Compute (a - b) / (a + b).  If the denomenator is zero, add a small delta.  \n",
    "\n",
    "  Args:\n",
    "    a: an input tensor with shape=[1]\n",
    "    b: an input tensor with shape=[1]\n",
    "\n",
    "  Returns:\n",
    "    The normalized difference as a tensor.\n",
    "  \"\"\"\n",
    "  nd = (a - b) / (a + b)\n",
    "  nd_inf = (a - b) / (a + b + 0.000001)\n",
    "  return tf.where(tf.is_finite(nd), nd, nd_inf)\n",
    "\n",
    "def addNDVI(features, label):\n",
    "  \"\"\"Add NDVI to the dataset.\n",
    "  Args: \n",
    "    features: a dictionary of input tensors keyed by feature name.\n",
    "    label: the target label\n",
    "  \n",
    "  Returns:\n",
    "    A tuple of the input dictionary with an NDVI tensor added and the label.\n",
    "  \"\"\"\n",
    "  features['NDVI'] = normalizedDifference(features['B5'], features['B4'])\n",
    "  return features, label"
   ]
  },
  {
   "cell_type": "markdown",
   "metadata": {
    "colab_type": "text",
    "id": "nEx1RAXOZQkS",
    "slideshow": {
     "slide_type": "subslide"
    }
   },
   "source": [
    "# Model setup\n",
    "\n",
    "The basic workflow for classification in TensorFlow is:\n",
    "\n",
    "1.  Create the model.\n",
    "2.  Train the model (i.e. `fit()`).\n",
    "3.  Use the trained model for inference (i.e. `predict()`).\n",
    "\n",
    "Here we'll create a `Sequential` neural network model using Keras.  This simple model is inspired by examples in:\n",
    "\n",
    "* [The TensorFlow Get Started tutorial](https://www.tensorflow.org/tutorials/)\n",
    "* [The TensorFlow Keras guide](https://www.tensorflow.org/guide/keras#build_a_simple_model)\n",
    "* [The Keras `Sequential` model examples](https://keras.io/getting-started/sequential-model-guide/#multilayer-perceptron-mlp-for-multi-class-softmax-classification)\n",
    "\n",
    "Note that the model used here is purely for demonstration purposes and hasn't gone through any performance tuning."
   ]
  },
  {
   "cell_type": "markdown",
   "metadata": {
    "colab_type": "text",
    "id": "t9pWa54oG-xl",
    "slideshow": {
     "slide_type": "subslide"
    }
   },
   "source": [
    "## Create the Keras model\n",
    "\n",
    "Before we create the model, there's still a wee bit of pre-processing to get the data into the right input shape and a format that can be used with cross-entropy loss.  Specifically, Keras expects a list of inputs and a one-hot vector for the class. (See [the Keras loss function docs](https://keras.io/losses/), [the TensorFlow categorical identity docs](https://www.tensorflow.org/guide/feature_columns#categorical_identity_column) and [the `tf.one_hot` docs](https://www.tensorflow.org/api_docs/python/tf/one_hot) for details).  \n",
    "\n",
    "Here we will use a simple neural network model with a 64 node hidden layer, a dropout layer and an output layer.  Once the dataset has been prepared, define the model, compile it, fit it to the training data.  See [the Keras `Sequential` model guide](https://keras.io/getting-started/sequential-model-guide/) for more details."
   ]
  },
  {
   "cell_type": "code",
   "execution_count": 23,
   "metadata": {
    "cellView": "code",
    "colab": {
     "base_uri": "https://localhost:8080/",
     "height": 250
    },
    "colab_type": "code",
    "id": "OCZq3VNpG--G",
    "outputId": "3d80cbdd-1cb2-41f3-f6c8-209943be6e60",
    "slideshow": {
     "slide_type": "slide"
    }
   },
   "outputs": [
    {
     "name": "stderr",
     "output_type": "stream",
     "text": [
      "WARNING: Logging before flag parsing goes to stderr.\n",
      "W0904 16:37:52.292262 139959053780864 deprecation.py:323] From <ipython-input-22-8e4c53940aa4>:15: add_dispatch_support.<locals>.wrapper (from tensorflow.python.ops.array_ops) is deprecated and will be removed in a future version.\n",
      "Instructions for updating:\n",
      "Use tf.where in 2.0, which has the same broadcast rule as np.where\n",
      "W0904 16:37:54.549130 139959053780864 training_utils.py:1300] Expected a shuffled dataset but input dataset `x` is not shuffled. Please invoke `shuffle()` on input dataset.\n"
     ]
    },
    {
     "name": "stdout",
     "output_type": "stream",
     "text": [
      "Epoch 1/3\n",
      "100/100 [==============================] - 2s 22ms/step - loss: 0.9144 - acc: 0.5139\n",
      "Epoch 2/3\n",
      "100/100 [==============================] - 1s 9ms/step - loss: 0.5695 - acc: 0.9323\n",
      "Epoch 3/3\n",
      "100/100 [==============================] - 1s 6ms/step - loss: 0.3562 - acc: 0.9538\n"
     ]
    },
    {
     "data": {
      "text/plain": [
       "<tensorflow.python.keras.callbacks.History at 0x7f4a602b5c18>"
      ]
     },
     "execution_count": 23,
     "metadata": {
      "tags": []
     },
     "output_type": "execute_result"
    }
   ],
   "source": [
    "from tensorflow import keras\n",
    "\n",
    "# How many classes there are in the model.\n",
    "nClasses = 3\n",
    "\n",
    "# Add NDVI.\n",
    "inputDataset = parsedDataset.map(addNDVI)\n",
    "\n",
    "# Keras requires inputs as a tuple.  Note that the inputs must be in the\n",
    "# right shape.  Also note that to use the categorical_crossentropy loss,\n",
    "# the label needs to be turned into a one-hot vector.\n",
    "def toTuple(dict, label):\n",
    "  return tf.transpose(list(dict.values())), tf.one_hot(indices=label, depth=nClasses)\n",
    "\n",
    "# Repeat the input dataset as many times as necessary in batches of 10.\n",
    "inputDataset = inputDataset.map(toTuple).repeat().batch(10)\n",
    "\n",
    "# Define the layers in the model.\n",
    "model = tf.keras.models.Sequential([\n",
    "  tf.keras.layers.Dense(64, activation=tf.nn.relu),\n",
    "  tf.keras.layers.Dropout(0.2),\n",
    "  tf.keras.layers.Dense(nClasses, activation=tf.nn.softmax)\n",
    "])\n",
    "\n",
    "# Compile the model with the specified loss function.\n",
    "model.compile(optimizer=tf.train.AdamOptimizer(),\n",
    "              loss='categorical_crossentropy',\n",
    "              metrics=['accuracy'])\n",
    "\n",
    "# Fit the model to the training data.\n",
    "# Don't forget to specify `steps_per_epoch` when calling `fit` on a dataset.\n",
    "model.fit(x=inputDataset, epochs=3, steps_per_epoch=100)\n"
   ]
  },
  {
   "cell_type": "markdown",
   "metadata": {
    "colab_type": "text",
    "id": "Pa4ex_4eKiyb",
    "slideshow": {
     "slide_type": "subslide"
    }
   },
   "source": [
    "## Check model accuracy on the test set\n",
    "\n",
    "Now that we have a trained model, we can evaluate it using the test dataset.  To do that, read and prepare the test dataset in the same way as the training dataset.  Here we specify a batch sie of 1 so that each example in the test set is used exactly once to compute model accuracy.  For model steps, just specify a number larger than the test dataset size (ignore the warning)."
   ]
  },
  {
   "cell_type": "code",
   "execution_count": 24,
   "metadata": {
    "cellView": "code",
    "colab": {
     "base_uri": "https://localhost:8080/",
     "height": 72
    },
    "colab_type": "code",
    "id": "tE6d7FsrMa1p",
    "outputId": "7b41f931-76cb-49d3-d544-225a128159d3",
    "slideshow": {
     "slide_type": "subslide"
    }
   },
   "outputs": [
    {
     "name": "stdout",
     "output_type": "stream",
     "text": [
      " 18/100 [====>.........................] - ETA: 5s - loss: 0.2575 - acc: 1.0000  "
     ]
    },
    {
     "name": "stderr",
     "output_type": "stream",
     "text": [
      "W0904 16:37:59.588850 139959053780864 training_generator.py:235] Your dataset ran out of data; interrupting training. Make sure that your dataset can generate at least `steps * epochs` batches (in this case, 100 batches). You may need to use the repeat() function when building your dataset.\n"
     ]
    },
    {
     "data": {
      "text/plain": [
       "[0.08088800475001336, 0.96666664]"
      ]
     },
     "execution_count": 24,
     "metadata": {
      "tags": []
     },
     "output_type": "execute_result"
    }
   ],
   "source": [
    "testDataset = (\n",
    "  tf.data.TFRecordDataset(testFilePath, compression_type='GZIP')\n",
    "    .map(parse_tfrecord, num_parallel_calls=5)\n",
    "    .map(addNDVI)\n",
    "    .map(toTuple)\n",
    "    .batch(1)\n",
    ")\n",
    "\n",
    "model.evaluate(testDataset, steps=100)"
   ]
  },
  {
   "cell_type": "markdown",
   "metadata": {
    "colab_type": "text",
    "id": "nhHrnv3VR0DU",
    "slideshow": {
     "slide_type": "fragment"
    }
   },
   "source": [
    "# Use the trained model to classify an image from Earth Engine\n",
    "\n",
    "Now it's time to classify the image that was exported from Earth Engine.  If the exported image is large, it will be split into multiple TFRecord files in its destination folder.  There will also be a JSON sidecar file called \"the mixer\" that describes the format and georeferencing of the image.  Here we will find the image files and the mixer file, getting some info out of the mixer that will be useful during model inference."
   ]
  },
  {
   "cell_type": "markdown",
   "metadata": {
    "colab_type": "text",
    "id": "nmTayDitZgQ5",
    "slideshow": {
     "slide_type": "fragment"
    }
   },
   "source": [
    "## Find the image files and JSON mixer file in Cloud Storage\n",
    "\n",
    "Use `gsutil` to locate the files of interest in the output Cloud Storage bucket.  Check to make sure your image export task finished before running the following."
   ]
  },
  {
   "cell_type": "code",
   "execution_count": 25,
   "metadata": {
    "colab": {
     "base_uri": "https://localhost:8080/",
     "height": 70
    },
    "colab_type": "code",
    "id": "oUv9WMpcVp8E",
    "outputId": "898b5fc1-55a4-4089-f9cf-e4fdb16f5297",
    "slideshow": {
     "slide_type": "subslide"
    }
   },
   "outputs": [
    {
     "name": "stdout",
     "output_type": "stream",
     "text": [
      "['gs://diversion-nextera/Image_pixel_demo_00000.tfrecord.gz',\n",
      " 'gs://diversion-nextera/Image_pixel_demo_00001.tfrecord.gz']\n",
      "gs://diversion-nextera/Image_pixel_demo_mixer.json\n"
     ]
    }
   ],
   "source": [
    "# Get a list of all the files in the output bucket.\n",
    "filesList = !gsutil ls 'gs://'{outputBucket}\n",
    "# Get only the files generated by the image export.\n",
    "exportFilesList = [s for s in filesList if imageFilePrefix in s]\n",
    "\n",
    "# Get the list of image files and the JSON mixer file.\n",
    "imageFilesList = []\n",
    "jsonFile = None\n",
    "for f in exportFilesList:\n",
    "  if f.endswith('.tfrecord.gz'):\n",
    "    imageFilesList.append(f)\n",
    "  elif f.endswith('.json'):\n",
    "    jsonFile = f\n",
    "\n",
    "# Make sure the files are in the right order.\n",
    "imageFilesList.sort()\n",
    "\n",
    "pprint(imageFilesList)\n",
    "print(jsonFile)"
   ]
  },
  {
   "cell_type": "markdown",
   "metadata": {
    "colab_type": "text",
    "id": "RcjYG9fk53xL",
    "slideshow": {
     "slide_type": "fragment"
    }
   },
   "source": [
    "## Read the JSON mixer file\n",
    "\n",
    "The mixer contains metadata and georeferencing information for the exported patches, each of which is in a different file.  Read the mixer to get some information needed for prediction."
   ]
  },
  {
   "cell_type": "code",
   "execution_count": 26,
   "metadata": {
    "colab": {
     "base_uri": "https://localhost:8080/",
     "height": 194
    },
    "colab_type": "code",
    "id": "Gn7Dr0AAd93_",
    "outputId": "b3a1bbce-f155-4cba-ff19-703e89c70d1b",
    "slideshow": {
     "slide_type": "subslide"
    }
   },
   "outputs": [
    {
     "name": "stdout",
     "output_type": "stream",
     "text": [
      "{'patchDimensions': [256, 256],\n",
      " 'patchesPerRow': 13,\n",
      " 'projection': {'affine': {'doubleMatrix': [0.00026949458523585647,\n",
      "                                            0.0,\n",
      "                                            -122.70007617412975,\n",
      "                                            0.0,\n",
      "                                            -0.00026949458523585647,\n",
      "                                            38.00008399118194]},\n",
      "                'crs': 'EPSG:4326'},\n",
      " 'totalPatches': 130}\n"
     ]
    }
   ],
   "source": [
    "import json\n",
    "\n",
    "# Load the contents of the mixer file to a JSON object.\n",
    "jsonText = !gsutil cat {jsonFile}\n",
    "# Get a single string w/ newlines from the IPython.utils.text.SList\n",
    "mixer = json.loads(jsonText.nlstr)\n",
    "pprint(mixer)"
   ]
  },
  {
   "cell_type": "markdown",
   "metadata": {
    "colab_type": "text",
    "id": "6xyzyPPJwpVI",
    "slideshow": {
     "slide_type": "notes"
    }
   },
   "source": [
    "## Read the image files into a dataset\n",
    "\n",
    "You can feed the list of files (`imageFilesList`) directly to the `TFRecordDataset` constructor to make a combined dataset on which to perform inference.  The input needs to be preprocessed differently than the training and testing.  Mainly, this is because the pixels are written into records as patches, we need to read the patches in as one big tensor (one patch for each band), then flatten them into lots of little tensors."
   ]
  },
  {
   "cell_type": "code",
   "execution_count": 0,
   "metadata": {
    "cellView": "code",
    "colab": {},
    "colab_type": "code",
    "id": "tn8Kj3VfwpiJ",
    "slideshow": {
     "slide_type": "slide"
    }
   },
   "outputs": [],
   "source": [
    "# Get relevant info from the JSON mixer file.\n",
    "PATCH_WIDTH = mixer['patchDimensions'][0]\n",
    "PATCH_HEIGHT = mixer['patchDimensions'][1]\n",
    "PATCHES = mixer['totalPatches']\n",
    "PATCH_DIMENSIONS_FLAT = [PATCH_WIDTH * PATCH_HEIGHT, 1]\n",
    "\n",
    "# Note that the tensors are in the shape of a patch, one patch for each band.\n",
    "imageColumns = [\n",
    "  tf.FixedLenFeature(shape=PATCH_DIMENSIONS_FLAT, dtype=tf.float32) \n",
    "    for k in bands\n",
    "]\n",
    "\n",
    "# Parsing dictionary.\n",
    "imageFeaturesDict = dict(zip(bands, imageColumns))\n",
    "\n",
    "# Note that you can make one dataset from many files by specifying a list.\n",
    "imageDataset = tf.data.TFRecordDataset(imageFilesList, compression_type='GZIP')\n",
    "\n",
    "# Parsing function.\n",
    "def parse_image(example_proto):\n",
    "  return tf.parse_single_example(example_proto, imageFeaturesDict)\n",
    "\n",
    "# Parse the data into tensors, one long tensor per patch.\n",
    "imageDataset = imageDataset.map(parse_image, num_parallel_calls=5)\n",
    "\n",
    "# Break our long tensors into many little ones.\n",
    "imageDataset = imageDataset.flat_map(\n",
    "  lambda features: tf.data.Dataset.from_tensor_slices(features)\n",
    ")\n",
    "\n",
    "# Add additional features (NDVI).\n",
    "imageDataset = imageDataset.map(\n",
    "  # Add NDVI to a feature that doesn't have a label.\n",
    "  lambda features: addNDVI(features, None)[0]\n",
    ")\n",
    "\n",
    "# Turn the dictionary in each record into a tuple with a dummy label.\n",
    "imageDataset = imageDataset.map(\n",
    "  # Add a dummy target (-1), with a value that is obviously ridiculous.\n",
    "  # This is because the model expects a tuple of (inputs, label).\n",
    "  lambda dataDict: (tf.transpose(list(dataDict.values())), tf.constant(-1))\n",
    ")\n",
    "\n",
    "# Turn each patch into a batch.\n",
    "imageDataset = imageDataset.batch(PATCH_WIDTH * PATCH_HEIGHT)"
   ]
  },
  {
   "cell_type": "markdown",
   "metadata": {
    "colab_type": "text",
    "id": "_2sfRemRRDkV",
    "slideshow": {
     "slide_type": "fragment"
    }
   },
   "source": [
    "## Generate predictions for the image pixels\n",
    "\n",
    "To get predictions in each pixel, run the image dataset through the trained model using `model.predict()`.  Print the first prediction to see that the output is a list of the three class probabilities for each pixel.  Running all predictions might take a while."
   ]
  },
  {
   "cell_type": "code",
   "execution_count": 28,
   "metadata": {
    "colab": {
     "base_uri": "https://localhost:8080/",
     "height": 52
    },
    "colab_type": "code",
    "id": "8VGhmiP_REBP",
    "outputId": "1180135f-b483-4415-de4e-bf2ec613c362",
    "slideshow": {
     "slide_type": "fragment"
    }
   },
   "outputs": [
    {
     "name": "stdout",
     "output_type": "stream",
     "text": [
      "130/130 [==============================] - 755s 6s/step\n",
      "[[0.10323942 0.89186317 0.00489745]]\n"
     ]
    }
   ],
   "source": [
    "# Run prediction in batches, with as many steps as there are patches.\n",
    "predictions = model.predict(imageDataset, steps=PATCHES, verbose=1)\n",
    "\n",
    "# Note that the predictions come as a numpy array.  Check the first one.\n",
    "print(predictions[0])"
   ]
  },
  {
   "cell_type": "markdown",
   "metadata": {
    "colab_type": "text",
    "id": "bPU2VlPOikAy",
    "slideshow": {
     "slide_type": "fragment"
    }
   },
   "source": [
    "## Write the predictions to a TFRecord file\n",
    "\n",
    "Now that there's a list of class probabilities in `predictions`, it's time to write them back into a file, optionally including a class label which is simply the index of the maximum probability.  We'll write directly from TensorFlow to a file in the output Cloud Storage bucket.\n",
    "\n",
    "Iterate over the list, compute class label and write the class and the probabilities in patches.  Specifically, we need to write the pixels into the file as patches in the same order they came out.  The records are written as serialized `tf.train.Example` protos.  This might take a while."
   ]
  },
  {
   "cell_type": "code",
   "execution_count": 29,
   "metadata": {
    "colab": {
     "base_uri": "https://localhost:8080/",
     "height": 34
    },
    "colab_type": "code",
    "id": "AkorbsEHepzJ",
    "outputId": "e0d1f298-2e51-4337-d92e-bfbbdfb4c423",
    "slideshow": {
     "slide_type": "subslide"
    }
   },
   "outputs": [
    {
     "name": "stdout",
     "output_type": "stream",
     "text": [
      "Writing to file gs://diversion-nextera/Classified_pixel_demo.TFRecord\n"
     ]
    }
   ],
   "source": [
    "outputImageFile = 'gs://' + outputBucket + '/Classified_pixel_demo.TFRecord'\n",
    "print('Writing to file ' + outputImageFile)"
   ]
  },
  {
   "cell_type": "code",
   "execution_count": null,
   "metadata": {
    "cellView": "code",
    "colab": {
     "base_uri": "https://localhost:8080/",
     "height": 1000
    },
    "colab_type": "code",
    "id": "kATMknHc0qeR",
    "outputId": "4eb7cab7-d202-4407-ee55-73e9a8539bb0",
    "slideshow": {
     "slide_type": "slide"
    }
   },
   "outputs": [],
   "source": [
    "# Instantiate the writer.\n",
    "writer = tf.python_io.TFRecordWriter(outputImageFile)\n",
    "\n",
    "# Every patch-worth of predictions we'll dump an example into the output\n",
    "# file with a single feature that holds our predictions. Since our predictions\n",
    "# are already in the order of the exported data, the patches we create here\n",
    "# will also be in the right order.\n",
    "patch = [[], [], [], []]\n",
    "curPatch = 1\n",
    "for prediction in predictions:\n",
    "  patch[0].append(tf.argmax(prediction, 1))\n",
    "  patch[1].append(prediction[0][0])\n",
    "  patch[2].append(prediction[0][1])\n",
    "  patch[3].append(prediction[0][2])\n",
    "  # Once we've seen a patches-worth of class_ids...\n",
    "  if (len(patch[0]) == PATCH_WIDTH * PATCH_HEIGHT):\n",
    "    print('Done with patch ' + str(curPatch) + ' of ' + str(PATCHES) + '...')\n",
    "    # Create an example\n",
    "    example = tf.train.Example(\n",
    "      features=tf.train.Features(\n",
    "        feature={\n",
    "          'prediction': tf.train.Feature(\n",
    "              int64_list=tf.train.Int64List(\n",
    "                  value=patch[0])),\n",
    "          'bareProb': tf.train.Feature(\n",
    "              float_list=tf.train.FloatList(\n",
    "                  value=patch[1])),\n",
    "          'vegProb': tf.train.Feature(\n",
    "              float_list=tf.train.FloatList(\n",
    "                  value=patch[2])),\n",
    "          'waterProb': tf.train.Feature(\n",
    "              float_list=tf.train.FloatList(\n",
    "                  value=patch[3])),\n",
    "        }\n",
    "      )\n",
    "    )\n",
    "    # Write the example to the file and clear our patch array so it's ready for\n",
    "    # another batch of class ids\n",
    "    writer.write(example.SerializeToString())\n",
    "    patch = [[], [], [], []]\n",
    "    curPatch += 1\n",
    "\n",
    "writer.close()"
   ]
  },
  {
   "cell_type": "markdown",
   "metadata": {
    "colab_type": "text",
    "id": "1K_1hKs0aBdA",
    "slideshow": {
     "slide_type": "fragment"
    }
   },
   "source": [
    "# Upload the classifications to an Earth Engine asset"
   ]
  },
  {
   "cell_type": "markdown",
   "metadata": {
    "colab_type": "text",
    "id": "M6sNZXWOSa82",
    "slideshow": {
     "slide_type": "fragment"
    }
   },
   "source": [
    "## Verify the existence of the predictions file\n",
    "\n",
    "At this stage, there should be a predictions TFRecord file sitting in the output Cloud Storage bucket.  Use the `gsutil` command to verify that the predictions image (and associated mixer JSON) exist and have non-zero size."
   ]
  },
  {
   "cell_type": "code",
   "execution_count": 44,
   "metadata": {
    "colab": {
     "base_uri": "https://localhost:8080/",
     "height": 52
    },
    "colab_type": "code",
    "id": "6ZVWDPefUCgA",
    "outputId": "98b29538-366b-41cc-ed9e-78d33194a026",
    "slideshow": {
     "slide_type": "fragment"
    }
   },
   "outputs": [
    {
     "name": "stdout",
     "output_type": "stream",
     "text": [
      " 110772220  2019-09-04T17:38:25Z  gs://diversion-nextera/Classified_pixel_demo.TFRecord\n",
      "TOTAL: 1 objects, 110772220 bytes (105.64 MiB)\n"
     ]
    }
   ],
   "source": [
    "!gsutil ls -l {outputImageFile}"
   ]
  },
  {
   "cell_type": "markdown",
   "metadata": {
    "colab_type": "text",
    "id": "2ZyCo297Clcx",
    "slideshow": {
     "slide_type": "subslide"
    }
   },
   "source": [
    "## Upload the classified image to Earth Engine\n",
    "\n",
    "Upload the image to Earth Engine directly from the Cloud Storage bucket with the [`earthengine` command](https://developers.google.com/earth-engine/command_line#upload).  Provide both the image TFRecord file and the JSON file as arguments to `earthengine upload`."
   ]
  },
  {
   "cell_type": "code",
   "execution_count": 45,
   "metadata": {
    "cellView": "code",
    "colab": {
     "base_uri": "https://localhost:8080/",
     "height": 34
    },
    "colab_type": "code",
    "id": "NXulMNl9lTDv",
    "outputId": "88eebfc9-8ae4-4556-c4eb-a12f161c6630",
    "slideshow": {
     "slide_type": "subslide"
    }
   },
   "outputs": [
    {
     "name": "stdout",
     "output_type": "stream",
     "text": [
      "Writing to users/sayantandas30011998/Classified_pixel_demo\n"
     ]
    }
   ],
   "source": [
    "# REPLACE WITH YOUR USERNAME:\n",
    "USER_NAME = 'sayantandas30011998'\n",
    "outputAssetID = 'users/' + USER_NAME + '/Classified_pixel_demo'\n",
    "print('Writing to ' + outputAssetID)"
   ]
  },
  {
   "cell_type": "code",
   "execution_count": 46,
   "metadata": {
    "colab": {
     "base_uri": "https://localhost:8080/",
     "height": 34
    },
    "colab_type": "code",
    "id": "V64tcVxsO5h6",
    "outputId": "f9167447-da90-4362-a64b-42b1b84f33d2",
    "slideshow": {
     "slide_type": "subslide"
    }
   },
   "outputs": [
    {
     "name": "stdout",
     "output_type": "stream",
     "text": [
      "Started upload task with ID: LPTJMC4DR36YTZAK54P4N47X\n"
     ]
    }
   ],
   "source": [
    "# Start the upload\n",
    "### --no-use_cloud_api.\n",
    "!earthengine --no-use_cloud_api upload image --asset_id={outputAssetID} {outputImageFile} {jsonFile} "
   ]
  },
  {
   "cell_type": "markdown",
   "metadata": {
    "colab_type": "text",
    "id": "Yt4HyhUU_Bal",
    "slideshow": {
     "slide_type": "fragment"
    }
   },
   "source": [
    "## Check the status of the asset ingestion\n",
    "\n",
    "You can also use the Earth Engine API to check the status of your asset upload.  It might take a while.  The upload of the image is an asset ingestion task.  "
   ]
  },
  {
   "cell_type": "code",
   "execution_count": 51,
   "metadata": {
    "cellView": "code",
    "colab": {
     "base_uri": "https://localhost:8080/",
     "height": 283
    },
    "colab_type": "code",
    "id": "_vB-gwGhl_3C",
    "outputId": "3b28ede9-42b9-4fc2-f1d8-dc0fbc51ba35",
    "slideshow": {
     "slide_type": "fragment"
    }
   },
   "outputs": [
    {
     "data": {
      "text/plain": [
       "[<Task INGEST: Asset ingestion: users/sayantandas30011998/Classified_pixel_demo (RUNNING)>,\n",
       " <Task INGEST: Asset ingestion: users/sayantandas30011998/Classified_pixel_demo (CANCELLED)>,\n",
       " <Task INGEST: Asset ingestion: users/sayantandas30011998/Classified_pixel_demo (CANCELLED)>,\n",
       " <Task EXPORT_IMAGE: Image Export (COMPLETED)>,\n",
       " <Task EXPORT_FEATURES: Testing Export (COMPLETED)>,\n",
       " <Task EXPORT_FEATURES: Training Export (COMPLETED)>,\n",
       " <Task INGEST: Asset ingestion: users/sayantandas30011998/Classified_pixel_demo (FAILED)>,\n",
       " <Task INGEST: Asset ingestion: users/sayantandas30011998/Classified_pixel_demo (FAILED)>,\n",
       " <Task EXPORT_IMAGE: Image Export (COMPLETED)>,\n",
       " <Task EXPORT_IMAGE: Image Export (COMPLETED)>,\n",
       " <Task EXPORT_FEATURES: Testing Export (COMPLETED)>,\n",
       " <Task EXPORT_FEATURES: Training Export (COMPLETED)>,\n",
       " <Task EXPORT_IMAGE: Image Export (FAILED)>,\n",
       " <Task EXPORT_FEATURES: Testing Export (FAILED)>,\n",
       " <Task EXPORT_FEATURES: Training Export (FAILED)>]"
      ]
     },
     "execution_count": 51,
     "metadata": {
      "tags": []
     },
     "output_type": "execute_result"
    }
   ],
   "source": [
    "ee.batch.Task.list()"
   ]
  },
  {
   "cell_type": "markdown",
   "metadata": {
    "colab_type": "text",
    "id": "vvXvy9GDhM-p",
    "slideshow": {
     "slide_type": "fragment"
    }
   },
   "source": [
    "## View the ingested asset\n",
    "\n",
    "Display the vector of class probabilities as an RGB image with colors corresponding to the probability of bare, vegetation, water in a pixel.  Also display the winning class using the same color palette."
   ]
  },
  {
   "cell_type": "code",
   "execution_count": null,
   "metadata": {
    "colab": {
     "base_uri": "https://localhost:8080/",
     "height": 846
    },
    "colab_type": "code",
    "id": "kEkVxIyJiFd4",
    "outputId": "727b15d1-e8d8-4343-e00d-0f8427d43916",
    "slideshow": {
     "slide_type": "slide"
    }
   },
   "outputs": [],
   "source": [
    "predictionsImage = ee.Image(outputAssetID)\n",
    "\n",
    "predictionVis = {\n",
    "  'bands': 'prediction',\n",
    "  'min': 0,\n",
    "  'max': 2,\n",
    "  'palette': ['red', 'green', 'blue']\n",
    "}\n",
    "probabilityVis = {'bands': ['bareProb', 'vegProb', 'waterProb']}\n",
    "\n",
    "predictionMapid = predictionsImage.getMapId(predictionVis)\n",
    "probabilityMapid = predictionsImage.getMapId(probabilityVis)\n",
    "\n",
    "map = folium.Map(location=[38., -122.5])\n",
    "folium.TileLayer(\n",
    "  tiles=EE_TILES.format(**predictionMapid),\n",
    "  attr='Google Earth Engine',\n",
    "  overlay=True,\n",
    "  name='prediction',\n",
    ").add_to(map)\n",
    "folium.TileLayer(\n",
    "  tiles=EE_TILES.format(**probabilityMapid),\n",
    "  attr='Google Earth Engine',\n",
    "  overlay=True,\n",
    "  name='probability',\n",
    ").add_to(map)\n",
    "map.add_child(folium.LayerControl())\n",
    "map"
   ]
  },
  {
   "cell_type": "markdown",
   "metadata": {
    "colab": {},
    "colab_type": "code",
    "id": "o_6tqK7gTKNo",
    "slideshow": {
     "slide_type": "slide"
    }
   },
   "source": [
    "<img src=\"15-08.png\"> "
   ]
  }
 ],
 "metadata": {
  "accelerator": "GPU",
  "celltoolbar": "Slideshow",
  "colab": {
   "collapsed_sections": [],
   "name": "Sayantan:TF_demo1_keras.ipynb",
   "provenance": [],
   "version": "0.3.2"
  },
  "kernelspec": {
   "display_name": "Python 3",
   "language": "python",
   "name": "python3"
  },
  "language_info": {
   "codemirror_mode": {
    "name": "ipython",
    "version": 3
   },
   "file_extension": ".py",
   "mimetype": "text/x-python",
   "name": "python",
   "nbconvert_exporter": "python",
   "pygments_lexer": "ipython3",
   "version": "3.7.4"
  }
 },
 "nbformat": 4,
 "nbformat_minor": 1
}
